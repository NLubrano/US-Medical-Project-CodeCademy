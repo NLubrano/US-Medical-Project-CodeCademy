{
 "cells": [
  {
   "cell_type": "markdown",
   "metadata": {},
   "source": [
    "# U.S. Medical Insurance Costs"
   ]
  },
  {
   "cell_type": "code",
   "execution_count": 1,
   "metadata": {},
   "outputs": [],
   "source": [
    "import csv"
   ]
  },
  {
   "cell_type": "code",
   "execution_count": 2,
   "metadata": {},
   "outputs": [],
   "source": [
    "#Creating empty list for each of the CSV columns\n",
    "\n",
    "ages = []\n",
    "sex = []\n",
    "bmi = []\n",
    "children = []\n",
    "region = []\n",
    "charges = []\n",
    "smoker = []"
   ]
  },
  {
   "cell_type": "code",
   "execution_count": 3,
   "metadata": {},
   "outputs": [],
   "source": [
    "## Added the data from each column into each empty list\n",
    "\n",
    "with open('insurance.csv') as insurance_csv:\n",
    "    insurance_data = csv.DictReader(insurance_csv)\n",
    "    for row in insurance_data:\n",
    "        ages.append(row['age'])\n",
    "\n",
    "with open('insurance.csv') as insurance_csv:\n",
    "    insurance_data = csv.DictReader(insurance_csv)\n",
    "    for row in insurance_data:\n",
    "        sex.append(row['sex'])\n",
    "\n",
    "with open('insurance.csv') as insurance_csv:\n",
    "    insurance_data = csv.DictReader(insurance_csv)\n",
    "    for row in insurance_data:\n",
    "        bmi.append(row['bmi'])\n",
    "\n",
    "with open('insurance.csv') as insurance_csv:\n",
    "    insurance_data = csv.DictReader(insurance_csv)\n",
    "    for row in insurance_data:\n",
    "        children.append(row['children'])\n",
    "\n",
    "with open('insurance.csv') as insurance_csv:\n",
    "    insurance_data = csv.DictReader(insurance_csv)\n",
    "    for row in insurance_data:\n",
    "        region.append(row['region'])\n",
    "\n",
    "with open('insurance.csv') as insurance_csv:\n",
    "    insurance_data = csv.DictReader(insurance_csv)\n",
    "    for row in insurance_data:\n",
    "        charges.append(row['charges'])\n",
    "\n",
    "with open('insurance.csv') as insurance_csv:\n",
    "    insurance_data = csv.DictReader(insurance_csv)\n",
    "    for row in insurance_data:\n",
    "        smoker.append(row['smoker'])\n",
    "    "
   ]
  },
  {
   "cell_type": "markdown",
   "metadata": {},
   "source": [
    "### Average Age of the Dataset"
   ]
  },
  {
   "cell_type": "code",
   "execution_count": 4,
   "metadata": {},
   "outputs": [],
   "source": [
    "#Finding total age of the entire dataset\n",
    "\n",
    "total_ages = 0\n",
    "for age in ages:\n",
    "    total_ages += int(age)\n",
    "    "
   ]
  },
  {
   "cell_type": "code",
   "execution_count": 5,
   "metadata": {
    "scrolled": false
   },
   "outputs": [
    {
     "name": "stdout",
     "output_type": "stream",
     "text": [
      "The average age of the dataset is 39.21 years old\n"
     ]
    }
   ],
   "source": [
    "#Dividing the total age by the amount of people in the data set\n",
    "\n",
    "print(\"The average age of the dataset is \" + str(round(total_ages / len(ages), 2)) + \" years old\")"
   ]
  },
  {
   "cell_type": "markdown",
   "metadata": {},
   "source": [
    "### Percent of Males vs Females In Data"
   ]
  },
  {
   "cell_type": "code",
   "execution_count": 6,
   "metadata": {},
   "outputs": [],
   "source": [
    "males = 0\n",
    "females = 0"
   ]
  },
  {
   "cell_type": "code",
   "execution_count": 7,
   "metadata": {},
   "outputs": [],
   "source": [
    "#Finding total males and total females in the dataset\n",
    "\n",
    "for s in sex:\n",
    "    if s == 'male':\n",
    "        males += 1\n",
    "    else:\n",
    "        females += 1"
   ]
  },
  {
   "cell_type": "code",
   "execution_count": 50,
   "metadata": {},
   "outputs": [
    {
     "name": "stdout",
     "output_type": "stream",
     "text": [
      "676\n",
      "662\n"
     ]
    }
   ],
   "source": [
    "print(males)\n",
    "print(females)"
   ]
  },
  {
   "cell_type": "code",
   "execution_count": 8,
   "metadata": {
    "scrolled": true
   },
   "outputs": [
    {
     "name": "stdout",
     "output_type": "stream",
     "text": [
      "50.5% of the people in the data are male.\n"
     ]
    }
   ],
   "source": [
    "print(str(round(males / (males + females), 3) * 100) + \"% of the people in the data are male.\")"
   ]
  },
  {
   "cell_type": "markdown",
   "metadata": {},
   "source": [
    "### BMI Analysis"
   ]
  },
  {
   "cell_type": "code",
   "execution_count": 9,
   "metadata": {},
   "outputs": [],
   "source": [
    "#Finding average BMI\n",
    "\n",
    "total_bmi = 0"
   ]
  },
  {
   "cell_type": "code",
   "execution_count": 10,
   "metadata": {},
   "outputs": [],
   "source": [
    "for b in bmi:\n",
    "    total_bmi += float(b)"
   ]
  },
  {
   "cell_type": "code",
   "execution_count": 11,
   "metadata": {},
   "outputs": [
    {
     "name": "stdout",
     "output_type": "stream",
     "text": [
      "The average BMI for the dataset is: 30.66.\n"
     ]
    }
   ],
   "source": [
    "average_bmi = round(total_bmi / len(bmi), 2)\n",
    "print(\"The average BMI for the dataset is: \" + str(average_bmi) + \".\")"
   ]
  },
  {
   "cell_type": "code",
   "execution_count": 12,
   "metadata": {},
   "outputs": [],
   "source": [
    "# Finding average BMI for Males & Females\n",
    "\n",
    "male_bmi = 0\n",
    "female_bmi = 0"
   ]
  },
  {
   "cell_type": "code",
   "execution_count": 13,
   "metadata": {},
   "outputs": [],
   "source": [
    "# Zipping sex and BMI together\n",
    "\n",
    "sex_bmi_zip = list(zip(sex, bmi))"
   ]
  },
  {
   "cell_type": "code",
   "execution_count": 14,
   "metadata": {},
   "outputs": [],
   "source": [
    "for i in sex_bmi_zip:\n",
    "    if i[0] == 'male':\n",
    "        male_bmi += float(i[1])\n",
    "    else:\n",
    "        female_bmi += float(i[1])"
   ]
  },
  {
   "cell_type": "code",
   "execution_count": 15,
   "metadata": {},
   "outputs": [
    {
     "name": "stdout",
     "output_type": "stream",
     "text": [
      "The averge BMI for all males is: 30.94\n",
      "The averge BMI for all females is: 30.38\n"
     ]
    }
   ],
   "source": [
    "# Average BMI by gender\n",
    "\n",
    "print(\"The averge BMI for all males is: \" + str(round(male_bmi / males, 2)))\n",
    "print(\"The averge BMI for all females is: \" + str(round(female_bmi / females, 2)))"
   ]
  },
  {
   "cell_type": "markdown",
   "metadata": {},
   "source": [
    "### Looking at BMI by Age Buckets"
   ]
  },
  {
   "cell_type": "code",
   "execution_count": 16,
   "metadata": {},
   "outputs": [],
   "source": [
    "#Creating BMI lists of age buckets\n",
    "\n",
    "bmi_25_and_under = 0\n",
    "bmi_35_to_26 = 0\n",
    "bmi_45_to_36 = 0\n",
    "bmi_55_to_46 = 0\n",
    "bmi_56_and_over = 0"
   ]
  },
  {
   "cell_type": "code",
   "execution_count": 17,
   "metadata": {},
   "outputs": [],
   "source": [
    "#Zipping age and BMI together\n",
    "\n",
    "ages_bmi_zip = list(zip(ages, bmi))"
   ]
  },
  {
   "cell_type": "code",
   "execution_count": 18,
   "metadata": {},
   "outputs": [],
   "source": [
    "for i in ages_bmi_zip:\n",
    "    if int(i[0]) >= 56:\n",
    "        bmi_56_and_over += float(i[1])\n",
    "    elif 56 > int(i[0]) > 45:\n",
    "        bmi_55_to_46 += float(i[1])\n",
    "    elif 45 >= int(i[0]) > 35:\n",
    "        bmi_45_to_36 += float(i[1])\n",
    "    elif 35 >= int(i[0]) > 25:\n",
    "        bmi_35_to_26 += float(i[1])\n",
    "    else:\n",
    "        bmi_25_and_under += float(i[1])   \n",
    "        "
   ]
  },
  {
   "cell_type": "code",
   "execution_count": 20,
   "metadata": {},
   "outputs": [],
   "source": [
    "#Finding amount of people in each bucket\n",
    "\n",
    "age_25_and_under = 0\n",
    "age_35_to_26 = 0\n",
    "age_45_to_36 = 0\n",
    "age_55_to_46 = 0\n",
    "age_56_and_over = 0"
   ]
  },
  {
   "cell_type": "code",
   "execution_count": 21,
   "metadata": {},
   "outputs": [],
   "source": [
    "for age in ages:\n",
    "    if int(age) >= 56:\n",
    "        age_56_and_over += 1\n",
    "    elif 56 > int(age) > 45:\n",
    "        age_55_to_46 += 1\n",
    "    elif 45 >= int(age) > 35:\n",
    "        age_45_to_36 += 1\n",
    "    elif 35 >= int(age) > 25:\n",
    "        age_35_to_26 += 1\n",
    "    else:\n",
    "        age_25_and_under += 1   "
   ]
  },
  {
   "cell_type": "code",
   "execution_count": 22,
   "metadata": {},
   "outputs": [
    {
     "name": "stdout",
     "output_type": "stream",
     "text": [
      "There are 306 people 25 years old and younger.\n",
      "There are 268 people between 26 and 35 years old.\n",
      "There are 264 people between 36 and 45 years old.\n",
      "There are 284 people between 36 and 45 years old.\n",
      "There are 216 people 56 years old and older.\n"
     ]
    }
   ],
   "source": [
    "#Amount of people in each age bucket\n",
    "\n",
    "print(\"There are \" + str(age_25_and_under) +\" people 25 years old and younger.\")\n",
    "print(\"There are \" + str(age_35_to_26) + \" people between 26 and 35 years old.\")\n",
    "print(\"There are \" + str(age_45_to_36) + \" people between 36 and 45 years old.\")\n",
    "print(\"There are \" + str(age_55_to_46) + \" people between 36 and 45 years old.\")\n",
    "print(\"There are \" + str(age_56_and_over) + \" people 56 years old and older.\")"
   ]
  },
  {
   "cell_type": "code",
   "execution_count": 23,
   "metadata": {},
   "outputs": [],
   "source": [
    "#Getting avg BMI for each age bucket\n",
    "\n",
    "avg_bmi_25_and_under = round(bmi_25_and_under / age_25_and_under, 2)\n",
    "avg_bmi_35_to_26 = round(bmi_35_to_26 / age_35_to_26, 2)\n",
    "avg_bmi_45_to_36 = round(bmi_45_to_36 / age_45_to_36, 2)\n",
    "avg_bmi_55_to_46 = round(bmi_55_to_46 / age_55_to_46, 2)\n",
    "avg_bmi_56_and_over = round(bmi_56_and_over / age_56_and_over, 2)"
   ]
  },
  {
   "cell_type": "code",
   "execution_count": 24,
   "metadata": {
    "scrolled": true
   },
   "outputs": [
    {
     "name": "stdout",
     "output_type": "stream",
     "text": [
      "The average BMI for people 25 years old and younger is: 30.01\n",
      "The average BMI for people 26 to 35 years old is: 30.23\n",
      "The average BMI for people 36 to 45 years old is: 30.24\n",
      "The average BMI for people 46 to 55 years old is: 31.36\n",
      "The average BMI for people 56 years old and older is: 31.74\n"
     ]
    }
   ],
   "source": [
    "print(\"The average BMI for people 25 years old and younger is: \" + str(avg_bmi_25_and_under))\n",
    "print(\"The average BMI for people 26 to 35 years old is: \" + str(avg_bmi_35_to_26))\n",
    "print(\"The average BMI for people 36 to 45 years old is: \" + str(avg_bmi_45_to_36))\n",
    "print(\"The average BMI for people 46 to 55 years old is: \" + str(avg_bmi_55_to_46))\n",
    "print(\"The average BMI for people 56 years old and older is: \" + str(avg_bmi_56_and_over))"
   ]
  },
  {
   "cell_type": "markdown",
   "metadata": {},
   "source": [
    "### Smoking Analysis"
   ]
  },
  {
   "cell_type": "code",
   "execution_count": 25,
   "metadata": {},
   "outputs": [],
   "source": [
    "#Counting how many smokers vs non-smokers are in the dataset\n",
    "\n",
    "smokers = 0\n",
    "nonsmokers = 0"
   ]
  },
  {
   "cell_type": "code",
   "execution_count": 27,
   "metadata": {},
   "outputs": [],
   "source": [
    "for s in smoker:\n",
    "    if s == 'yes':\n",
    "        smokers += 1\n",
    "    else:\n",
    "        nonsmokers += 1"
   ]
  },
  {
   "cell_type": "code",
   "execution_count": 47,
   "metadata": {},
   "outputs": [
    {
     "name": "stdout",
     "output_type": "stream",
     "text": [
      "20.5 percent of the dataset (274 people) are smokers.\n"
     ]
    }
   ],
   "source": [
    "print(str(round(smokers / len(smoker), 3) * 100) + \" percent of the dataset (\" + str(smokers) + \" people) are smokers.\")"
   ]
  },
  {
   "cell_type": "code",
   "execution_count": 48,
   "metadata": {},
   "outputs": [],
   "source": [
    "#Finding BMI for smokers vs non-smokers\n",
    "\n",
    "smoker_bmi = 0\n",
    "nonsmoker_bmi = 0\n",
    "\n",
    "smoker_bmi_zip = list(zip(smoker, bmi))"
   ]
  },
  {
   "cell_type": "code",
   "execution_count": 51,
   "metadata": {},
   "outputs": [],
   "source": [
    "for i in smoker_bmi_zip:\n",
    "    if i[0] == 'yes':\n",
    "        smoker_bmi += float(i[1])\n",
    "    else:\n",
    "        nonsmoker_bmi += float(i[1])"
   ]
  },
  {
   "cell_type": "code",
   "execution_count": 52,
   "metadata": {},
   "outputs": [
    {
     "name": "stdout",
     "output_type": "stream",
     "text": [
      "8414.115000000003\n",
      "32613.509999999966\n"
     ]
    }
   ],
   "source": [
    "print(smoker_bmi)\n",
    "print(nonsmoker_bmi)"
   ]
  },
  {
   "cell_type": "code",
   "execution_count": 63,
   "metadata": {},
   "outputs": [
    {
     "name": "stdout",
     "output_type": "stream",
     "text": [
      "The average BMI for all smokers is: 30.71\n",
      "The average BMI for all non-smokers is: 30.65\n"
     ]
    }
   ],
   "source": [
    "#Finding Average BMI for the two groups\n",
    "\n",
    "print(\"The average BMI for all smokers is: \" +str(round((smoker_bmi / smokers), 2)))\n",
    "print(\"The average BMI for all non-smokers is: \" +str(round((nonsmoker_bmi / nonsmokers), 2)))"
   ]
  },
  {
   "cell_type": "markdown",
   "metadata": {},
   "source": [
    "### Combining All Paitent Info Into One List"
   ]
  },
  {
   "cell_type": "code",
   "execution_count": 64,
   "metadata": {},
   "outputs": [],
   "source": [
    "paitent_info = list(zip(ages, sex, bmi, children, region, charges, smoker))"
   ]
  },
  {
   "cell_type": "code",
   "execution_count": null,
   "metadata": {},
   "outputs": [],
   "source": []
  }
 ],
 "metadata": {
  "kernelspec": {
   "display_name": "Python 3 (ipykernel)",
   "language": "python",
   "name": "python3"
  },
  "language_info": {
   "codemirror_mode": {
    "name": "ipython",
    "version": 3
   },
   "file_extension": ".py",
   "mimetype": "text/x-python",
   "name": "python",
   "nbconvert_exporter": "python",
   "pygments_lexer": "ipython3",
   "version": "3.9.12"
  }
 },
 "nbformat": 4,
 "nbformat_minor": 4
}
